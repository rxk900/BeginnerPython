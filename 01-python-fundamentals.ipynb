{
 "cells": [
  {
   "cell_type": "markdown",
   "id": "c73e84d3-df75-4ef9-a116-a65ef4525ea1",
   "metadata": {},
   "source": [
    "# Python fundamentals\n",
    "\n",
    "- How can I create a new variable in Python?\n",
    "- What basic data types can I work with in Python?\n",
    "- Can I change the value associated with a variable after I create it?\n",
    "- How do I use a function?\n"
   ]
  },
  {
   "cell_type": "markdown",
   "id": "78644d8a-1a06-4337-9869-3af493760f6f",
   "metadata": {},
   "source": [
    "### Variables"
   ]
  },
  {
   "cell_type": "code",
   "execution_count": 1,
   "id": "44e4b39b-18c4-4c9c-8283-d3e5b7ba566a",
   "metadata": {},
   "outputs": [
    {
     "data": {
      "text/plain": [
       "33"
      ]
     },
     "execution_count": 1,
     "metadata": {},
     "output_type": "execute_result"
    }
   ],
   "source": [
    "3 + 5 * 6"
   ]
  },
  {
   "cell_type": "code",
   "execution_count": 3,
   "id": "b73d8f7e-22e4-4f85-b413-f978442ff532",
   "metadata": {},
   "outputs": [],
   "source": [
    "answer = 2+2 /7"
   ]
  },
  {
   "cell_type": "code",
   "execution_count": 5,
   "id": "9f5cb843-9b13-4ed2-83ed-5f935405e0e1",
   "metadata": {},
   "outputs": [],
   "source": [
    "weight_kg = 60.5"
   ]
  },
  {
   "cell_type": "code",
   "execution_count": 6,
   "id": "0db3f1fd-719f-49fd-8ab5-f392ee7e6ab3",
   "metadata": {},
   "outputs": [
    {
     "ename": "SyntaxError",
     "evalue": "EOL while scanning string literal (4181368839.py, line 1)",
     "output_type": "error",
     "traceback": [
      "\u001b[0;36m  Input \u001b[0;32mIn [6]\u001b[0;36m\u001b[0m\n\u001b[0;31m    patient = \"AB001'\u001b[0m\n\u001b[0m                     ^\u001b[0m\n\u001b[0;31mSyntaxError\u001b[0m\u001b[0;31m:\u001b[0m EOL while scanning string literal\n"
     ]
    }
   ],
   "source": [
    "patient = \"AB001\""
   ]
  },
  {
   "cell_type": "code",
   "execution_count": null,
   "id": "1a6b9d41-075b-4262-a80d-bc2870a7690d",
   "metadata": {},
   "outputs": [],
   "source": []
  },
  {
   "cell_type": "code",
   "execution_count": null,
   "id": "34c98c0d-6550-4262-af5f-95228c9846b4",
   "metadata": {},
   "outputs": [],
   "source": []
  },
  {
   "cell_type": "code",
   "execution_count": null,
   "id": "8f62cb2e-dcc5-4496-ad5a-aaa6460ba4e7",
   "metadata": {},
   "outputs": [],
   "source": []
  },
  {
   "cell_type": "code",
   "execution_count": null,
   "id": "c7a7560c-fefe-436d-aff0-beebc76fee9c",
   "metadata": {},
   "outputs": [],
   "source": []
  },
  {
   "cell_type": "markdown",
   "id": "5f75379b-f950-4fa6-9a38-5a5eb4c997d8",
   "metadata": {},
   "source": [
    "### Types of data"
   ]
  },
  {
   "cell_type": "code",
   "execution_count": null,
   "id": "8e3b3ae5-fc14-4a28-96e5-6ecbdd1906d2",
   "metadata": {},
   "outputs": [],
   "source": [
    "weight = 60 #int"
   ]
  },
  {
   "cell_type": "code",
   "execution_count": 7,
   "id": "a18d3d9a-5233-4f1c-ae5b-3df49a82660b",
   "metadata": {},
   "outputs": [],
   "source": [
    "weight_kg = 62.35 #float"
   ]
  },
  {
   "cell_type": "code",
   "execution_count": 12,
   "id": "7f555b9e-6ce6-4a8b-afe4-0aaf3ee009cb",
   "metadata": {},
   "outputs": [],
   "source": [
    "patient_id = '001' #string"
   ]
  },
  {
   "cell_type": "code",
   "execution_count": null,
   "id": "dae84701-8e14-4247-9b2f-4f97a0043dde",
   "metadata": {},
   "outputs": [],
   "source": []
  },
  {
   "cell_type": "code",
   "execution_count": null,
   "id": "375ea315-81e4-4a5f-ac0a-3a16cf053e65",
   "metadata": {},
   "outputs": [],
   "source": []
  },
  {
   "cell_type": "code",
   "execution_count": null,
   "id": "6e4db2b8-0a41-43c7-be3b-6d5b40002930",
   "metadata": {},
   "outputs": [],
   "source": []
  },
  {
   "cell_type": "markdown",
   "id": "bbf99fc7-3623-483d-9685-5edcaf083585",
   "metadata": {},
   "source": [
    "### Using variables"
   ]
  },
  {
   "cell_type": "code",
   "execution_count": 8,
   "id": "5ab99282-adaf-44ba-ba4b-06a8209c5b55",
   "metadata": {},
   "outputs": [],
   "source": [
    "weight_lb = weight_kg *2.2"
   ]
  },
  {
   "cell_type": "code",
   "execution_count": 9,
   "id": "428a7514-2fbe-400f-9e97-bb098ac8cd47",
   "metadata": {},
   "outputs": [
    {
     "name": "stdout",
     "output_type": "stream",
     "text": [
      "132.0\n"
     ]
    }
   ],
   "source": [
    "print(weight_lb)"
   ]
  },
  {
   "cell_type": "code",
   "execution_count": null,
   "id": "90cabbfb-e5e3-4454-af65-c1a1e175ef0e",
   "metadata": {},
   "outputs": [],
   "source": []
  },
  {
   "cell_type": "code",
   "execution_count": null,
   "id": "3d0b34c8-e03b-4a56-95cb-a3562e3099dd",
   "metadata": {},
   "outputs": [],
   "source": []
  },
  {
   "cell_type": "code",
   "execution_count": null,
   "id": "46c6ad89-de58-4aef-9be6-8c2b6b15c9b9",
   "metadata": {},
   "outputs": [],
   "source": []
  },
  {
   "cell_type": "code",
   "execution_count": null,
   "id": "e691564e-7ce9-48a0-bac8-adcea2762657",
   "metadata": {},
   "outputs": [],
   "source": []
  },
  {
   "cell_type": "code",
   "execution_count": null,
   "id": "572d988c-8114-4629-9adf-5239dcedb713",
   "metadata": {},
   "outputs": [],
   "source": []
  },
  {
   "cell_type": "code",
   "execution_count": null,
   "id": "421ad49c-8480-4d13-be1f-9e7a6b183627",
   "metadata": {},
   "outputs": [],
   "source": []
  },
  {
   "cell_type": "markdown",
   "id": "c8f5e2a9-46e7-4938-82be-0a363367f92e",
   "metadata": {},
   "source": [
    "### Built-in functions"
   ]
  },
  {
   "cell_type": "code",
   "execution_count": 10,
   "id": "06e78c09-747d-41c6-b52e-8cb2eb9e6fe1",
   "metadata": {},
   "outputs": [
    {
     "name": "stdout",
     "output_type": "stream",
     "text": [
      "Show this text\n"
     ]
    }
   ],
   "source": [
    "print('Show this text')"
   ]
  },
  {
   "cell_type": "code",
   "execution_count": 13,
   "id": "d10eba7d-b6ce-40a0-b6da-f616c06c7f04",
   "metadata": {},
   "outputs": [
    {
     "name": "stdout",
     "output_type": "stream",
     "text": [
      "001 60\n"
     ]
    }
   ],
   "source": [
    "print(patient_id, weight_kg)"
   ]
  },
  {
   "cell_type": "code",
   "execution_count": 14,
   "id": "0433e311-b343-4291-8c8b-6de880791526",
   "metadata": {},
   "outputs": [
    {
     "name": "stdout",
     "output_type": "stream",
     "text": [
      "Patient  001  weighs  60\n"
     ]
    }
   ],
   "source": [
    "print(\"Patient \", patient_id, \" weighs \", weight_kg)"
   ]
  },
  {
   "cell_type": "code",
   "execution_count": 15,
   "id": "e0ffb3ec-5219-430b-8f7b-b273664252b7",
   "metadata": {},
   "outputs": [
    {
     "data": {
      "text/plain": [
       "str"
      ]
     },
     "execution_count": 15,
     "metadata": {},
     "output_type": "execute_result"
    }
   ],
   "source": [
    "type(patient_id)"
   ]
  },
  {
   "cell_type": "code",
   "execution_count": 16,
   "id": "5e6a2d8f-5509-41c0-adc4-b98027628b73",
   "metadata": {},
   "outputs": [
    {
     "data": {
      "text/plain": [
       "int"
      ]
     },
     "execution_count": 16,
     "metadata": {},
     "output_type": "execute_result"
    }
   ],
   "source": [
    "type(weight_kg)"
   ]
  },
  {
   "cell_type": "code",
   "execution_count": null,
   "id": "a3363410-5367-4a38-a154-c32683aa206b",
   "metadata": {},
   "outputs": [],
   "source": []
  },
  {
   "cell_type": "markdown",
   "id": "2f566b26-2a3b-4688-ba62-d66db75449ec",
   "metadata": {
    "tags": []
   },
   "source": [
    "### Discussion and questions\n",
    "\n",
    "What questions do you have about variables, data types and built-in functions?"
   ]
  },
  {
   "cell_type": "markdown",
   "id": "cc35bdd4-011a-4700-af3b-293c0ff78f85",
   "metadata": {},
   "source": [
    "**Question 1**: what value will mass and age have after I run this code?"
   ]
  },
  {
   "cell_type": "code",
   "execution_count": null,
   "id": "c39f0c18-6f99-492d-bed1-8c5decb95409",
   "metadata": {},
   "outputs": [],
   "source": [
    "mass = 45\n",
    "age = 122\n",
    "mass = mass * 2.0\n",
    "age = age - 20"
   ]
  },
  {
   "cell_type": "code",
   "execution_count": null,
   "id": "1cea1a92-6dba-4f9f-aa10-6a7f34c9a411",
   "metadata": {},
   "outputs": [],
   "source": [
    "print(\"mass = \",mass)\n",
    "print(\"age = \", age)"
   ]
  },
  {
   "cell_type": "markdown",
   "id": "f66091ba-84cb-4b64-bc9d-3d61dd854993",
   "metadata": {},
   "source": [
    "**Question 2**: What value will third and fourth have after I run this code?"
   ]
  },
  {
   "cell_type": "code",
   "execution_count": null,
   "id": "a07c6cf6-cea5-4280-aa53-0c3f5c1b8d1c",
   "metadata": {},
   "outputs": [],
   "source": [
    "first, second = 'Grace', 'Hopper'\n",
    "third, fourth = second, first"
   ]
  },
  {
   "cell_type": "code",
   "execution_count": null,
   "id": "2e33784d-e3f6-4d05-bbe3-0b80b7850434",
   "metadata": {},
   "outputs": [],
   "source": [
    "print(\"third = \",third)\n",
    "print(\"fourth = \", fourth)"
   ]
  },
  {
   "cell_type": "markdown",
   "id": "1042c5ab-7f18-4981-a7a9-a6898b307636",
   "metadata": {},
   "source": [
    "**Question 3**: What are the data types of these variables?"
   ]
  },
  {
   "cell_type": "code",
   "execution_count": null,
   "id": "a9271ed5-494f-4bc5-8225-bd34dc96b0c8",
   "metadata": {},
   "outputs": [],
   "source": [
    "planet = 'Earth'\n",
    "apples = 5\n",
    "distance = 10.5"
   ]
  },
  {
   "cell_type": "code",
   "execution_count": null,
   "id": "7a4c5af0-3100-46fe-b54a-08fbbca86af6",
   "metadata": {},
   "outputs": [],
   "source": [
    "print(type(planet))\n",
    "print(type(apples))\n",
    "print(type(distance))"
   ]
  }
 ],
 "metadata": {
  "kernelspec": {
   "display_name": "Python 3 (ipykernel)",
   "language": "python",
   "name": "python3"
  },
  "language_info": {
   "codemirror_mode": {
    "name": "ipython",
    "version": 3
   },
   "file_extension": ".py",
   "mimetype": "text/x-python",
   "name": "python",
   "nbconvert_exporter": "python",
   "pygments_lexer": "ipython3",
   "version": "3.8.10"
  }
 },
 "nbformat": 4,
 "nbformat_minor": 5
}
